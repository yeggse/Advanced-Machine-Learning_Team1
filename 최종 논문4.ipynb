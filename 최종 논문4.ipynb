{
  "nbformat": 4,
  "nbformat_minor": 0,
  "metadata": {
    "colab": {
      "provenance": []
    },
    "kernelspec": {
      "name": "python3",
      "display_name": "Python 3"
    },
    "language_info": {
      "name": "python"
    }
  },
  "cells": [
    {
      "cell_type": "code",
      "execution_count": 9,
      "metadata": {
        "colab": {
          "base_uri": "https://localhost:8080/"
        },
        "id": "5RERbyHZcPN1",
        "outputId": "ca80e856-f62a-4483-f98c-d083d500369f"
      },
      "outputs": [
        {
          "output_type": "stream",
          "name": "stdout",
          "text": [
            "Evaluation Metrics for Extra Trees Classifier:\n",
            "Accuracy: 0.9348469891411648\n",
            "Precision: 0.922077922077922\n",
            "Recall: 0.6513761467889908\n",
            "F1-Score: 0.7634408602150538\n",
            "AUC-ROC: 0.9810411953064674\n",
            "Confusion Matrix:\n",
            " [[1681   18]\n",
            " [ 114  213]]\n",
            "\n",
            "Classification Report:\n",
            "               precision    recall  f1-score   support\n",
            "\n",
            "           0       0.94      0.99      0.96      1699\n",
            "           1       0.92      0.65      0.76       327\n",
            "\n",
            "    accuracy                           0.93      2026\n",
            "   macro avg       0.93      0.82      0.86      2026\n",
            "weighted avg       0.93      0.93      0.93      2026\n",
            "\n",
            "==================================================\n"
          ]
        }
      ],
      "source": [
        "# 논문4\n",
        "\n",
        "import pandas as pd\n",
        "from sklearn.model_selection import train_test_split\n",
        "from sklearn.ensemble import ExtraTreesClassifier, RandomForestClassifier\n",
        "from sklearn.metrics import (\n",
        "    accuracy_score, precision_score, recall_score, f1_score,\n",
        "    classification_report, confusion_matrix, roc_auc_score, roc_curve\n",
        ")\n",
        "\n",
        "# 데이터셋 불러오기\n",
        "file_path = '/content/BankChurners.csv'\n",
        "df = pd.read_csv(file_path)\n",
        "\n",
        "# 데이터 전처리\n",
        "\n",
        "# Naive Bayes 관련 열 제거\n",
        "df.drop(['Naive_Bayes_Classifier_Attrition_Flag_Card_Category_Contacts_Count_12_mon_Dependent_count_Education_Level_Months_Inactive_12_mon_1',\n",
        "         'Naive_Bayes_Classifier_Attrition_Flag_Card_Category_Contacts_Count_12_mon_Dependent_count_Education_Level_Months_Inactive_12_mon_2'],axis=1,inplace=True)\n",
        "\n",
        "# 불필요한 열 제거 ('CLIENTNUM')\n",
        "df.drop(columns=['CLIENTNUM'], inplace=True)\n",
        "\n",
        "# 범주형 변수를 수치형으로 매핑\n",
        "df['Attrition_Flag'] = df['Attrition_Flag'].map({'Existing Customer': 0, 'Attrited Customer': 1})\n",
        "df['Gender'] = df['Gender'].map({'M': 1, 'F': 0})\n",
        "df['Education_Level'] = df['Education_Level'].map({\n",
        "    'Unknown':0, 'Uneducated': 1, 'High School': 2, 'College': 3,\n",
        "    'Graduate': 4, 'Post-Graduate': 5, 'Doctorate': 6\n",
        "})\n",
        "df['Marital_Status'] = df['Marital_Status'].map({'Unknown':0, 'Single': 1, 'Married': 2, 'Divorced': 3})\n",
        "df['Income_Category'] = df['Income_Category'].map({\n",
        "    'Unknown':0, 'Less than $40K': 1, '$40K - $60K': 2, '$60K - $80K': 3,\n",
        "    '$80K - $120K': 4, '$120K +': 5\n",
        "})\n",
        "df['Card_Category'] = df['Card_Category'].map({'Blue': 1, 'Silver': 2, 'Gold': 3, 'Platinum': 4})\n",
        "\n",
        "# 목표 변수와 특성 변수 분리\n",
        "target_column = 'Attrition_Flag'\n",
        "X = df.drop(target_column, axis=1)\n",
        "y = df[target_column]\n",
        "\n",
        "# 학습/테스트 데이터 분리\n",
        "X_train, X_test, y_train, y_test = train_test_split(X, y, test_size=0.2, random_state=42)\n",
        "\n",
        "# 모델 초기화\n",
        "et_classifier = ExtraTreesClassifier(random_state=42)\n",
        "rf_classifier = RandomForestClassifier(random_state=42)\n",
        "\n",
        "# Extra Trees Classifier 훈련\n",
        "et_classifier.fit(X_train, y_train)\n",
        "y_pred_et = et_classifier.predict(X_test)\n",
        "y_pred_proba_et = et_classifier.predict_proba(X_test)[:, 1]  # 예측 확률\n",
        "\n",
        "# Random Forest Classifier 훈련\n",
        "rf_classifier.fit(X_train, y_train)\n",
        "y_pred_rf = rf_classifier.predict(X_test)\n",
        "y_pred_proba_rf = rf_classifier.predict_proba(X_test)[:, 1]  # 예측 확률\n",
        "\n",
        "# 평가 함수 정의\n",
        "def evaluate_model(y_test, y_pred, y_pred_proba, model_name):\n",
        "    print(f\"Evaluation Metrics for {model_name}:\")\n",
        "    print(\"Accuracy:\", accuracy_score(y_test, y_pred))\n",
        "    print(\"Precision:\", precision_score(y_test, y_pred))\n",
        "    print(\"Recall:\", recall_score(y_test, y_pred))\n",
        "    print(\"F1-Score:\", f1_score(y_test, y_pred))\n",
        "    print(\"AUC-ROC:\", roc_auc_score(y_test, y_pred_proba))\n",
        "    print(\"Confusion Matrix:\\n\", confusion_matrix(y_test, y_pred))\n",
        "    print(\"\\nClassification Report:\\n\", classification_report(y_test, y_pred))\n",
        "    print(\"=\"*50)\n",
        "\n",
        "# Extra Trees 평가\n",
        "evaluate_model(y_test, y_pred_et, y_pred_proba_et, \"Extra Trees Classifier\")"
      ]
    },
    {
      "cell_type": "code",
      "source": [],
      "metadata": {
        "id": "Kl3uweQ_cszM"
      },
      "execution_count": null,
      "outputs": []
    }
  ]
}