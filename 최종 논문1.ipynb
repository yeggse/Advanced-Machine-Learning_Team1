{
  "nbformat": 4,
  "nbformat_minor": 0,
  "metadata": {
    "colab": {
      "provenance": []
    },
    "kernelspec": {
      "name": "python3",
      "display_name": "Python 3"
    },
    "language_info": {
      "name": "python"
    }
  },
  "cells": [
    {
      "cell_type": "code",
      "execution_count": 4,
      "metadata": {
        "colab": {
          "base_uri": "https://localhost:8080/",
          "height": 810
        },
        "id": "sp7TTVgiayKf",
        "outputId": "20f6e61e-28f4-4ea3-c8bc-abc7cf2d4e05"
      },
      "outputs": [
        {
          "output_type": "stream",
          "name": "stdout",
          "text": [
            "Accuracy: 0.9442250740375123\n",
            "Precision: 0.7729591836734694\n",
            "Recall: 0.926605504587156\n",
            "F1 Score: 0.8428372739916551\n",
            "ROC AUC Score: 0.9851270670100958\n",
            "      Metric     Value\n",
            "0   Accuracy  0.944225\n",
            "1  Precision  0.772959\n",
            "2     Recall  0.926606\n",
            "3   F1 Score  0.842837\n",
            "4    ROC AUC  0.985127\n"
          ]
        },
        {
          "output_type": "display_data",
          "data": {
            "text/plain": [
              "<Figure size 1000x600 with 1 Axes>"
            ],
            "image/png": "[encoded data removed]"
          },
          "metadata": {}
        }
      ],
      "source": [
        "# 논문1_A Novel Machine Learning Approach For Handling Imbalanced Data Leveraging SMOTE-ENN and XGBoost\n",
        "\n",
        "import pandas as pd\n",
        "import numpy as np\n",
        "import matplotlib.pyplot as plt\n",
        "from sklearn.model_selection import train_test_split\n",
        "from imblearn.combine import SMOTEENN\n",
        "from sklearn.preprocessing import StandardScaler\n",
        "from xgboost import XGBClassifier\n",
        "from sklearn.metrics import accuracy_score, precision_score, recall_score, f1_score, roc_auc_score\n",
        "\n",
        "# 데이터셋 불러오기\n",
        "file_path = '/content/BankChurners.csv'\n",
        "df = pd.read_csv(file_path)\n",
        "\n",
        "# 데이터 전처리\n",
        "# Naive Bayes 관련 열 제거\n",
        "df.drop(['Naive_Bayes_Classifier_Attrition_Flag_Card_Category_Contacts_Count_12_mon_Dependent_count_Education_Level_Months_Inactive_12_mon_1',\n",
        "         'Naive_Bayes_Classifier_Attrition_Flag_Card_Category_Contacts_Count_12_mon_Dependent_count_Education_Level_Months_Inactive_12_mon_2'],axis=1,inplace=True)\n",
        "\n",
        "# 불필요한 열 제거 ('CLIENTNUM')\n",
        "df.drop(columns=['CLIENTNUM'], inplace=True)\n",
        "\n",
        "# 범주형 변수를 수치형으로 매핑\n",
        "df['Attrition_Flag'] = df['Attrition_Flag'].map({'Existing Customer': 0, 'Attrited Customer': 1})\n",
        "df['Gender'] = df['Gender'].map({'M': 1, 'F': 0})\n",
        "df['Education_Level'] = df['Education_Level'].map({\n",
        "    'Unknown':0, 'Uneducated': 1, 'High School': 2, 'College': 3,\n",
        "    'Graduate': 4, 'Post-Graduate': 5, 'Doctorate': 6\n",
        "})\n",
        "df['Marital_Status'] = df['Marital_Status'].map({'Unknown':0, 'Single': 1, 'Married': 2, 'Divorced': 3})\n",
        "df['Income_Category'] = df['Income_Category'].map({\n",
        "    'Unknown':0, 'Less than $40K': 1, '$40K - $60K': 2, '$60K - $80K': 3,\n",
        "    '$80K - $120K': 4, '$120K +': 5\n",
        "})\n",
        "df['Card_Category'] = df['Card_Category'].map({'Blue': 1, 'Silver': 2, 'Gold': 3, 'Platinum': 4})\n",
        "\n",
        "# 목표 변수와 특성 변수 분리\n",
        "target_column = 'Attrition_Flag'\n",
        "X = df.drop(target_column, axis=1)\n",
        "y = df[target_column]\n",
        "\n",
        "# 학습 데이터와 테스트 데이터 분리\n",
        "X_train, X_test, y_train, y_test = train_test_split(X, y, test_size=0.2, random_state=42)\n",
        "\n",
        "# 클래스 불균형 처리 (SMOTE-ENN 사용)\n",
        "smote_enn = SMOTEENN(random_state=42)\n",
        "X_train_resampled, y_train_resampled = smote_enn.fit_resample(X_train, y_train)\n",
        "\n",
        "# 데이터 스케일링\n",
        "scaler = StandardScaler()\n",
        "X_train_resampled = scaler.fit_transform(X_train_resampled)\n",
        "X_test = scaler.transform(X_test)\n",
        "\n",
        "# XGBoost 모델 정의 및 학습\n",
        "model = XGBClassifier(n_estimators=500, learning_rate=0.1, max_depth=10, random_state=42)\n",
        "model.fit(X_train_resampled, y_train_resampled)\n",
        "\n",
        "# 예측 수행\n",
        "y_pred = model.predict(X_test)\n",
        "y_pred_proba = model.predict_proba(X_test)[:, 1]\n",
        "\n",
        "# 모델 평가\n",
        "accuracy = accuracy_score(y_test, y_pred)\n",
        "precision = precision_score(y_test, y_pred)\n",
        "recall = recall_score(y_test, y_pred)\n",
        "f1 = f1_score(y_test, y_pred)\n",
        "roc_auc = roc_auc_score(y_test, y_pred_proba)\n",
        "\n",
        "# 평가 결과 출력\n",
        "print(\"Accuracy:\", accuracy)\n",
        "print(\"Precision:\", precision)\n",
        "print(\"Recall:\", recall)\n",
        "print(\"F1 Score:\", f1)\n",
        "print(\"ROC AUC Score:\", roc_auc)\n",
        "\n",
        "# 평가 결과 데이터프레임으로 변환 및 표시\n",
        "evaluation_results = pd.DataFrame({\n",
        "    'Metric': ['Accuracy', 'Precision', 'Recall', 'F1 Score', 'ROC AUC'],\n",
        "    'Value': [accuracy, precision, recall, f1, roc_auc]\n",
        "})\n",
        "print(evaluation_results)\n",
        "\n",
        "# 결과 시각화\n",
        "plt.figure(figsize=(10, 6))\n",
        "plt.bar(evaluation_results['Metric'], evaluation_results['Value'], color='skyblue')\n",
        "plt.xlabel('Metric')\n",
        "plt.ylabel('Score')\n",
        "plt.title('Model Evaluation Metrics')\n",
        "plt.ylim(0, 1)\n",
        "plt.tight_layout()\n",
        "plt.show()\n"
      ]
    },
    {
      "cell_type": "code",
      "source": [],
      "metadata": {
        "id": "I3UHt3IibEpF"
      },
      "execution_count": null,
      "outputs": []
    }
  ]
}